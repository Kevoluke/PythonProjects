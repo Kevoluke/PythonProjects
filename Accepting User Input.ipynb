{
 "cells": [
  {
   "cell_type": "code",
   "execution_count": 14,
   "id": "a0631bd5",
   "metadata": {},
   "outputs": [],
   "source": [
    "vals = [\"\",\"\",\"\",\"\",\"\",\"\",\"\",\"\",\"\"]"
   ]
  },
  {
   "cell_type": "code",
   "execution_count": 12,
   "id": "242288ec",
   "metadata": {},
   "outputs": [],
   "source": [
    "def user_input(vals):\n",
    "    print(\"Hello! Welcome!\")\n",
    "    name=input(\"Please enter your name: \")\n",
    "    print(f\"Hello {name}\")\n",
    "    initials=input(\"Please enter your initials: \")\n",
    "    \n",
    "    while True:\n",
    "        pos = input(\"enter a position in vals where you wish to enter your initials: \")\n",
    "        \n",
    "        if pos.isdigit==False:\n",
    "            print(\"Enter a valid number\")\n",
    "            \n",
    "        elif pos not in [\"0\",\"1\",\"2\",\"3\",\"4\",\"5\",\"6\",\"7\",\"8\"]:\n",
    "            print('Please enter position inrange!!')\n",
    "            \n",
    "        else:\n",
    "            pos=int(pos)\n",
    "            vals[pos]=initials\n",
    "            break\n",
    "    return vals"
   ]
  },
  {
   "cell_type": "code",
   "execution_count": 15,
   "id": "a2d0f231",
   "metadata": {},
   "outputs": [
    {
     "name": "stdout",
     "output_type": "stream",
     "text": [
      "Hello! Welcome!\n",
      "Please enter your name: Luke\n",
      "Hello Luke\n",
      "Please enter your initials: LL\n",
      "enter a position in vals where you wish to enter your initials: 7\n"
     ]
    },
    {
     "data": {
      "text/plain": [
       "['', '', '', '', '', '', '', 'LL', '']"
      ]
     },
     "execution_count": 15,
     "metadata": {},
     "output_type": "execute_result"
    }
   ],
   "source": [
    "user_input(vals)"
   ]
  },
  {
   "cell_type": "code",
   "execution_count": null,
   "id": "1fff1661",
   "metadata": {},
   "outputs": [],
   "source": []
  }
 ],
 "metadata": {
  "kernelspec": {
   "display_name": "Python 3 (ipykernel)",
   "language": "python",
   "name": "python3"
  },
  "language_info": {
   "codemirror_mode": {
    "name": "ipython",
    "version": 3
   },
   "file_extension": ".py",
   "mimetype": "text/x-python",
   "name": "python",
   "nbconvert_exporter": "python",
   "pygments_lexer": "ipython3",
   "version": "3.9.7"
  }
 },
 "nbformat": 4,
 "nbformat_minor": 5
}
