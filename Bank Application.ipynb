{
 "cells": [
  {
   "cell_type": "code",
   "execution_count": 42,
   "id": "a9541d05",
   "metadata": {},
   "outputs": [
    {
     "name": "stdout",
     "output_type": "stream",
     "text": [
      "\tWelcome to Bank of Kenya\n",
      "How can we help you?\n",
      "1. Create a bank account\n",
      "2. Check Account Balance\n",
      "3. Withdraw Money\n",
      "4. Deposit Money\n",
      "5. Exit\n",
      "Please enter your choice: 5\n",
      "Thank You For Trusting Us!\n",
      "Have a nice day\n"
     ]
    }
   ],
   "source": [
    "bank_acc=[] #create blank list *this is the main function\n",
    "while True:\n",
    "    print(\"\\tWelcome to Bank of Kenya\")\n",
    "    print(\"How can we help you?\")\n",
    "    print(\"1. Create a bank account\")\n",
    "    print(\"2. Check Account Balance\")\n",
    "    print(\"3. Withdraw Money\")\n",
    "    print(\"4. Deposit Money\")\n",
    "    print(\"5. Exit\")\n",
    "    choice = int(input(\"Please enter your choice: \"))\n",
    "    if choice==1:\n",
    "        a=create_acc()\n",
    "        bank_acc.append(a)\n",
    "        print(\"You account has been created successfully!!!\")\n",
    "        print(a) #check if function is returning real values\n",
    "    elif choice==2:\n",
    "        a=check_balance(bank_acc)\n",
    "        print(a)\n",
    "        \n",
    "    elif choice==3:\n",
    "        bank_acc=withdraw(bank_acc)\n",
    "        print(bank_acc)\n",
    "    elif choice==4:\n",
    "        bank_acc=deposit(bank_acc)\n",
    "        print(bank_acc)\n",
    "    elif choice==5:\n",
    "        print(\"Thank You For Trusting Us!\")\n",
    "        print(\"Have a nice day\")\n",
    "        break\n",
    "        #incase a number selected is not among the 5 i.e error message\n",
    "    else:\n",
    "        print(\"Please Enter a valid choice\")\n",
    "\n",
    "\n",
    "\n",
    "\n"
   ]
  },
  {
   "cell_type": "code",
   "execution_count": 43,
   "id": "2fd10fff",
   "metadata": {},
   "outputs": [],
   "source": [
    "def create_acc(): #function to create an account opt 1\n",
    "    name = input(\"Please enter your name: \")\n",
    "    age = int(input(\"Please enter your age: \"))\n",
    "    type_acc = input(\"Which type of account you wish to open(savings/credit): \")\n",
    "    \n",
    "    if type_acc not in [\"savings\",\"Savings\",\"credit\",\"Credit\"]:\n",
    "        print(\"Please enter a valid account type\")\n",
    "        print(\"Please fill the form again!!!\")\n",
    "        create_acc()\n",
    "        \n",
    "    balance = float(input(\"How much should your account contain: \"))\n",
    "    \n",
    "    if balance<1000:\n",
    "        print(\"Please enter a balance account greater than 1000!!\")\n",
    "        print(\"Please fill the form again!!!\")\n",
    "        create_acc\n",
    "        \n",
    "    return [name,age,type_acc,balance]"
   ]
  },
  {
   "cell_type": "code",
   "execution_count": null,
   "id": "0309d632",
   "metadata": {},
   "outputs": [],
   "source": [
    "def check_balance(bank_acc):\n",
    "    if len(bank_acc)==0:\n",
    "        print(\"The bank contains no accounts!\")\n",
    "        return (\"Please try creating one!!\")\n",
    "        \n",
    "    na_1=input(\"Please enter your Name to identify acccount!: \")\n",
    "    \n",
    "    for x in bank_acc:\n",
    "        #[[\"Luke\" , \"22\" , \"savings\" ,1000] , [\"Rahul\", \"67\", \"credit\", 2000]]\n",
    "        if x[0]==na_1:\n",
    "            print(\"Account Found!!!\")\n",
    "            return (\"Your Account balance is: {}\".format(x[-1]))\n",
    "        \n",
    "    print(\"Invalid Account!!!\")\n",
    "    return(\"Please Try Again\")"
   ]
  },
  {
   "cell_type": "code",
   "execution_count": 29,
   "id": "9343689e",
   "metadata": {},
   "outputs": [],
   "source": [
    "def withdraw(bank_acc):\n",
    "    if len(bank_acc)==0:\n",
    "        print(\"The bank contains no accounts!\")\n",
    "        return (\"Please try creating one!!\")\n",
    "        \n",
    "    na_1=input(\"Please enter your Name to identify acccount!: \")\n",
    "    \n",
    "    for x in bank_acc:\n",
    "        #[[\"Luke\" , \"22\" , \"savings\" ,1000] , [\"Rahul\", \"67\", \"credit\", 2000]]\n",
    "        if x[0]==na_1:\n",
    "            print(\"Account Found!!!\")\n",
    "            val = float(input(\"How much do you wish to withdraw: \"))\n",
    "            if val>x[-1]: #if trying to withdraw more than the balance\n",
    "                return (\"Insufficient Balance\")\n",
    "            x[-1] = x[-1] - val\n",
    "            print(\"Your money has been withdrawn successfully\")\n",
    "            \n",
    "            return bank_acc"
   ]
  },
  {
   "cell_type": "code",
   "execution_count": 40,
   "id": "4be68791",
   "metadata": {},
   "outputs": [],
   "source": [
    "def deposit(bank_acc):\n",
    "    if len(bank_acc)==0:\n",
    "        print(\"The bank contains no accounts!\")\n",
    "        return (\"Please try creating one!!\")\n",
    "        \n",
    "    na_1=input(\"Please enter your Name to identify acccount!: \")\n",
    "    \n",
    "    for x in bank_acc:\n",
    "        #[[\"Luke\" , \"22\" , \"savings\" ,1000] , [\"Rahul\", \"67\", \"credit\", 2000]]\n",
    "        if x[0]==na_1:\n",
    "            print(\"Account Found!!!\")\n",
    "            val = float(input(\"How much do you wish to deposit: \"))\n",
    "            x[-1] = x[-1] + val\n",
    "            print(\"Your money has been deposited successfully\")\n",
    "            \n",
    "            return bank_acc\n",
    "    print(\"Invalid Account\")\n",
    "    return bank_acc"
   ]
  }
 ],
 "metadata": {
  "kernelspec": {
   "display_name": "Python 3 (ipykernel)",
   "language": "python",
   "name": "python3"
  },
  "language_info": {
   "codemirror_mode": {
    "name": "ipython",
    "version": 3
   },
   "file_extension": ".py",
   "mimetype": "text/x-python",
   "name": "python",
   "nbconvert_exporter": "python",
   "pygments_lexer": "ipython3",
   "version": "3.9.7"
  }
 },
 "nbformat": 4,
 "nbformat_minor": 5
}
