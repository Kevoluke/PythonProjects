{
 "cells": [
  {
   "cell_type": "code",
   "execution_count": 1,
   "id": "bb038716",
   "metadata": {},
   "outputs": [
    {
     "name": "stdout",
     "output_type": "stream",
     "text": [
      "Move disk 1 from source to temp\n",
      "Move disk 2 from source to destination\n",
      "Move disk 1 from temp to source\n"
     ]
    }
   ],
   "source": [
    "def tower_of_hanoi(n,source,destination,temp):\n",
    "    if n==1:\n",
    "        print(\"Move disk 1 from {} to {}\".format(source,destination))\n",
    "        return\n",
    "    tower_of_hanoi(n-1,source,temp,destination)\n",
    "    print(\"Move disk {} from {} to {}\".format(n,source,destination))\n",
    "    tower_of_hanoi(n-1,temp,source,destination)\n",
    "    \n",
    "tower_of_hanoi(2,\"source\", \"destination\",\"temp\")"
   ]
  }
 ],
 "metadata": {
  "kernelspec": {
   "display_name": "Python 3 (ipykernel)",
   "language": "python",
   "name": "python3"
  },
  "language_info": {
   "codemirror_mode": {
    "name": "ipython",
    "version": 3
   },
   "file_extension": ".py",
   "mimetype": "text/x-python",
   "name": "python",
   "nbconvert_exporter": "python",
   "pygments_lexer": "ipython3",
   "version": "3.9.7"
  }
 },
 "nbformat": 4,
 "nbformat_minor": 5
}
